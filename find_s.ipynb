{
  "nbformat": 4,
  "nbformat_minor": 0,
  "metadata": {
    "colab": {
      "name": "Find-S Algorithm.ipynb",
      "provenance": []
    },
    "kernelspec": {
      "name": "python3",
      "display_name": "Python 3"
    }
  },
  "cells": [
    {
      "cell_type": "code",
      "metadata": {
        "id": "KQOLC-yOX8LC"
      },
      "source": [
        "import numpy as np\n",
        "import pandas as pd"
      ],
      "execution_count": 1,
      "outputs": []
    },
    {
      "cell_type": "code",
      "metadata": {
        "id": "LtRvvdovYKm6"
      },
      "source": [
        "data = pd.read_csv('weather.csv')\n",
        "concepts = np.array(data.iloc[:, :-1])\n",
        "target = np.array(data.iloc[:, -1])"
      ],
      "execution_count": 2,
      "outputs": []
    },
    {
      "cell_type": "code",
      "metadata": {
        "id": "ogfFDlRqYhUL"
      },
      "source": [
        "def train(concepts, target):\n",
        "    specific_h = concepts[0].copy()\n",
        "\n",
        "    for i, h in enumerate(concepts[1:]):\n",
        "        # Check if the hypothesis has a positive target\n",
        "        if target[i] == 'Yes':\n",
        "            # Compare each value of h\n",
        "            for x in range(len(specific_h)):\n",
        "                if h[x] != specific_h[x]:\n",
        "                    specific_h[x] = '?'\n",
        "\n",
        "    return specific_h\n",
        "\n",
        "def predict(h, specific_h):\n",
        "    d = [False] * len(specific_h)\n",
        "    indices = np.where(specific_h == '?')\n",
        "    \n",
        "    for i, val in enumerate(specific_h):\n",
        "        d[i] = True if i in indices[0] else val == h[i]\n",
        "    \n",
        "    return all(d)"
      ],
      "execution_count": 3,
      "outputs": []
    },
    {
      "cell_type": "code",
      "metadata": {
        "colab": {
          "base_uri": "https://localhost:8080/"
        },
        "id": "NJVYzigAY_-U",
        "outputId": "4763513f-0746-48ed-bd02-ce68bda4c4d2"
      },
      "source": [
        "specific_h = train(concepts, target)\n",
        "print(predict(concepts[1], specific_h))"
      ],
      "execution_count": 4,
      "outputs": [
        {
          "output_type": "stream",
          "text": [
            "True\n"
          ],
          "name": "stdout"
        }
      ]
    }
  ]
}
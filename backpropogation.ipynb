{
 "cells": [
  {
   "cell_type": "code",
   "execution_count": 1,
   "metadata": {},
   "outputs": [],
   "source": [
    "import numpy as np"
   ]
  },
  {
   "cell_type": "code",
   "execution_count": 2,
   "metadata": {},
   "outputs": [],
   "source": [
    "X = np.array(([2, 9], [1, 5], [3, 6]), dtype=float)\n",
    "y = np.array(([92], [86], [89]), dtype=float)"
   ]
  },
  {
   "cell_type": "code",
   "execution_count": 3,
   "metadata": {},
   "outputs": [],
   "source": [
    "def sigmoid(x):\n",
    "    return 1 / (1 + np.exp(-x))\n",
    "\n",
    "def sigmoid_grad(x):\n",
    "    return x * (1 - x)"
   ]
  },
  {
   "cell_type": "code",
   "execution_count": 4,
   "metadata": {},
   "outputs": [],
   "source": [
    "# Setting training iterations\n",
    "epoch = 1000\n",
    "\n",
    "# Setting learning rate (eta)\n",
    "eta = 0.2\n",
    "\n",
    "# Number of features in data set\n",
    "input_neurons = 2\n",
    "\n",
    "# Number of hidden layers neurons\n",
    "hidden_neurons = 3\n",
    "\n",
    "# Number of neurons at output layer\n",
    "output_neurons = 1"
   ]
  },
  {
   "cell_type": "code",
   "execution_count": 5,
   "metadata": {},
   "outputs": [],
   "source": [
    "# Weight and bias - Random initialization\n",
    "wh = np.random.uniform(size=(input_neurons, hidden_neurons))  # 2x3\n",
    "bh = np.random.uniform(size=(1, hidden_neurons))  # 1x3\n",
    "wout = np.random.uniform(size=(hidden_neurons, output_neurons))  # 1x1\n",
    "bout = np.random.uniform(size=(1, output_neurons))"
   ]
  },
  {
   "cell_type": "code",
   "execution_count": 6,
   "metadata": {},
   "outputs": [],
   "source": [
    "for i in range(epoch):\n",
    "    # Forward Propogation\n",
    "    h_ip = np.dot(X, wh) + bh  # Dot product + Bias\n",
    "    h_act = sigmoid(h_ip)  # Activation function\n",
    "    o_ip = np.dot(h_act, wout) + bout\n",
    "    output = sigmoid(o_ip)\n",
    "\n",
    "# Backpropagation\n",
    "\n",
    "# Error at output layer\n",
    "Eo = y - output\n",
    "outgrad = sigmoid_grad(output)\n",
    "d_output = Eo * outgrad\n",
    "\n",
    "# Error at Hidden layer\n",
    "Eh = d_output.dot(wout.T)  # .T means transpose\n",
    "hiddengrad = sigmoid_grad(h_act)\n",
    "# How much hidden layer weights contributed to error\n",
    "d_hidden = Eh * hiddengrad\n",
    "wout = h_act.T.dot(d_output) * eta\n",
    "# Dot product of next layer error and current layer op\n",
    "wh = X.T.dot(d_hidden) * eta"
   ]
  },
  {
   "cell_type": "code",
   "execution_count": 7,
   "metadata": {},
   "outputs": [
    {
     "name": "stdout",
     "output_type": "stream",
     "text": [
      "Normalized input:\n",
      "[[2. 9.]\n",
      " [1. 5.]\n",
      " [3. 6.]]\n",
      "\n",
      "Actual output:\n",
      "[[92.]\n",
      " [86.]\n",
      " [89.]]\n",
      "\n",
      "Predicted output:\n",
      "[[0.96201269]\n",
      " [0.96102261]\n",
      " [0.96197738]]\n"
     ]
    }
   ],
   "source": [
    "print(\"Normalized input:\", X, sep=\"\\n\")\n",
    "print(\"\\nActual output:\", y, sep=\"\\n\")\n",
    "print(\"\\nPredicted output:\", output, sep=\"\\n\")"
   ]
  },
  {
   "cell_type": "code",
   "execution_count": null,
   "metadata": {},
   "outputs": [],
   "source": []
  }
 ],
 "metadata": {
  "kernelspec": {
   "display_name": "Python 3",
   "language": "python",
   "name": "python3"
  },
  "language_info": {
   "codemirror_mode": {
    "name": "ipython",
    "version": 3
   },
   "file_extension": ".py",
   "mimetype": "text/x-python",
   "name": "python",
   "nbconvert_exporter": "python",
   "pygments_lexer": "ipython3",
   "version": "3.7.9"
  }
 },
 "nbformat": 4,
 "nbformat_minor": 4
}

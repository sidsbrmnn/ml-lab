{
  "nbformat": 4,
  "nbformat_minor": 0,
  "metadata": {
    "colab": {
      "name": "Candidate Elimination.ipynb",
      "provenance": []
    },
    "kernelspec": {
      "name": "python3",
      "display_name": "Python 3"
    }
  },
  "cells": [
    {
      "cell_type": "code",
      "metadata": {
        "id": "_9ISVg03a_bs"
      },
      "source": [
        "import numpy as np\n",
        "import pandas as pd"
      ],
      "execution_count": 1,
      "outputs": []
    },
    {
      "cell_type": "code",
      "metadata": {
        "id": "xftrUgyRbXvH"
      },
      "source": [
        "data = pd.DataFrame(pd.read_csv('weather.csv'))\n",
        "concepts = np.array(data.iloc[:,:-1])\n",
        "target = np.array(data.iloc[:,-1])"
      ],
      "execution_count": 2,
      "outputs": []
    },
    {
      "cell_type": "code",
      "metadata": {
        "id": "nZpYFj1abcGk"
      },
      "source": [
        "def learn(concepts, target):\n",
        "    specific_h = concepts[0].copy()\n",
        "    general_h = [['?' for i in range(len(specific_h))] for i in range(len(specific_h))]\n",
        "\n",
        "    for i, h in enumerate(concepts):\n",
        "        # Check if the hypothesis has a positive target\n",
        "        if target[i] == 'Yes':\n",
        "            for x in range(len(specific_h)):\n",
        "                # If values differ, change only in S & G\n",
        "                if h[x] != specific_h[x]:\n",
        "                    specific_h[x] = '?'\n",
        "                    general_h[x][x] = '?'\n",
        "\n",
        "        # Check if the hypothesis has a negative target\n",
        "        if target[i] == 'No':\n",
        "            for x in range(len(specific_h)):\n",
        "                # For negative hyposthesis change values only in G\n",
        "                if h[x] != specific_h[x]:\n",
        "                    general_h[x][x] = specific_h[x]\n",
        "                else:\n",
        "                    general_h[x][x] = '?'\n",
        "\n",
        "    # Find and remove unchanged rows\n",
        "    indices = [i for i, val in enumerate(general_h) if val == ['?', '?', '?', '?', '?', '?']]\n",
        "    for i in indices:\n",
        "        general_h.remove(['?', '?', '?', '?', '?', '?'])\n",
        "\n",
        "    return specific_h, general_h"
      ],
      "execution_count": 3,
      "outputs": []
    },
    {
      "cell_type": "code",
      "metadata": {
        "colab": {
          "base_uri": "https://localhost:8080/"
        },
        "id": "nOv3kTXHb2NL",
        "outputId": "7d58f12a-2765-4028-b998-521adf14809b"
      },
      "source": [
        "final_s, final_g = learn(concepts, target)\n",
        "print('Final S:', final_s)\n",
        "print('Final G:', final_g)"
      ],
      "execution_count": 4,
      "outputs": [
        {
          "output_type": "stream",
          "text": [
            "Final S: ['Sunny' 'Warm' '?' 'Strong' '?' '?']\n",
            "Final G: [['Sunny', '?', '?', '?', '?', '?'], ['?', 'Warm', '?', '?', '?', '?']]\n"
          ],
          "name": "stdout"
        }
      ]
    }
  ]
}